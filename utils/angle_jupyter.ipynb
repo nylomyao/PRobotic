{
 "cells": [
  {
   "cell_type": "code",
   "execution_count": null,
   "id": "b761e5be",
   "metadata": {},
   "outputs": [],
   "source": [
    "import numpy as np\n",
    "from scipy.spatial.transform import Rotation as R\n",
    "import matplotlib.pyplot as plt\n",
    "\n",
    "def plot_rotated_axes(ax, r, name=None, offset=(0, 0, 0), scale=1):\n",
    "    colors = (\"#FF6666\", \"#005533\", \"#1199EE\")\n",
    "    loc = np.array([offset, offset])\n",
    "    for i, (axis, c) in enumerate(zip((ax.xaxis, ax.yaxis, ax.zaxis), colors)):\n",
    "        axlabel = axis.axis_name\n",
    "        axis.set_label_text(axlabel)\n",
    "        axis.label.set_color(c)\n",
    "        axis.line.set_color(c)\n",
    "        axis.set_tick_params(colors=c)\n",
    "        line = np.zeros((2, 3))\n",
    "        line[1, i] = scale\n",
    "        line_rot = r.apply(line)\n",
    "        line_plot = line_rot + loc\n",
    "        ax.plot(line_plot[:, 0], line_plot[:, 1], line_plot[:, 2], c)\n",
    "        text_loc = line[1] * 1.2\n",
    "        text_loc_rot = r.apply(text_loc)\n",
    "        text_plot = text_loc_rot + loc[0]\n",
    "        ax.text(*text_plot, axlabel.upper(), color=c, va='center', ha='center')\n",
    "    ax.text(*offset, name, color='k', va='center', ha='center', bbox={'fc': 'w', 'alpha': 0.8, 'boxstyle': 'circle'})\n",
    "\n",
    "def rotation_scipy():\n",
    "    # 恒等变换，不进行旋转\n",
    "    r0 = R.identity()\n",
    "    # 内旋旋转\n",
    "    r1 = R.from_euler('ZYX', [90, -30, 0], degrees=True)\n",
    "    # 外旋旋转\n",
    "    r2 = R.from_euler('zyx', [90, -30, 0], degrees=True)\n",
    "\n",
    "    print(r2.as_matrix())\n",
    "\n",
    "    ax = plt.figure().add_subplot(projection='3d', proj_type='ortho')\n",
    "    plot_rotated_axes(ax, r0, name='r0', offset=(0, 0, 0))\n",
    "    plot_rotated_axes(ax, r1, name='r1', offset=(3, 0, 0))\n",
    "    plot_rotated_axes(ax, r2, name='r2', offset=(6, 0, 0))\n",
    "    _ = ax.annotate(\n",
    "        \"r0: Identity Rotation\\n\"\n",
    "        \"r1: Intrinsic Euler Rotation (ZYX)\\n\"\n",
    "        \"r2: Extrinsic Euler Rotation (zyx)\",\n",
    "        xy=(0.6, 0.7), xycoords=\"axes fraction\", ha=\"left\"\n",
    "    )\n",
    "\n",
    "    ax.set(xlim=(-1.25, 7.25), ylim=(-1.25, 1.25), zlim=(-1.25, 1.25))\n",
    "    ax.set(xticks=range(-1, 8), yticks=[-1, 0, 1], zticks=[-1, 0, 1])\n",
    "    ax.set_aspect(\"equal\", adjustable=\"box\")\n",
    "    ax.figure.set_size_inches(6, 5)\n",
    "    plt.tight_layout()\n",
    "\n",
    "    plt.show()\n",
    "\n",
    "rotation_scipy()"
   ]
  }
 ],
 "metadata": {
  "kernelspec": {
   "display_name": "base",
   "language": "python",
   "name": "python3"
  },
  "language_info": {
   "codemirror_mode": {
    "name": "ipython",
    "version": 3
   },
   "file_extension": ".py",
   "mimetype": "text/x-python",
   "name": "python",
   "nbconvert_exporter": "python",
   "pygments_lexer": "ipython3",
   "version": "3.11.5"
  }
 },
 "nbformat": 4,
 "nbformat_minor": 5
}
